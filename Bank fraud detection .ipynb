{
 "cells": [
  {
   "cell_type": "markdown",
   "metadata": {
    "id": "lP6JLo1tGNBg"
   },
   "source": [
    "# Artificial Neural Network"
   ]
  },
  {
   "cell_type": "markdown",
   "metadata": {
    "id": "gWZyYmS_UE_L"
   },
   "source": [
    "### Importing the libraries"
   ]
  },
  {
   "cell_type": "code",
   "execution_count": 2,
   "metadata": {
    "id": "MxkJoQBkUIHC"
   },
   "outputs": [],
   "source": [
    "import numpy as np\n",
    "import pandas as pd\n",
    "import tensorflow as tf"
   ]
  },
  {
   "cell_type": "code",
   "execution_count": 3,
   "metadata": {
    "colab": {
     "base_uri": "https://localhost:8080/",
     "height": 36
    },
    "id": "ZaTwK7ojXr2F",
    "outputId": "2b72e32c-c7ef-4e4b-8062-dae419c49530"
   },
   "outputs": [
    {
     "data": {
      "text/plain": [
       "'2.18.0'"
      ]
     },
     "execution_count": 3,
     "metadata": {},
     "output_type": "execute_result"
    }
   ],
   "source": [
    "tf.__version__"
   ]
  },
  {
   "cell_type": "markdown",
   "metadata": {
    "id": "1E0Q3aoKUCRX"
   },
   "source": [
    "## Part 1 - Data Preprocessing"
   ]
  },
  {
   "cell_type": "markdown",
   "metadata": {
    "id": "cKWAkFVGUU0Z"
   },
   "source": [
    "### Importing the dataset"
   ]
  },
  {
   "cell_type": "code",
   "execution_count": 4,
   "metadata": {
    "id": "MXUkhkMfU4wq"
   },
   "outputs": [],
   "source": [
    "data = pd.read_csv('Fraud.csv')\n",
    "\n",
    "X = data.iloc[:,2:-2].values\n",
    "y = data.iloc[:, -1].values"
   ]
  },
  {
   "cell_type": "code",
   "execution_count": 5,
   "metadata": {
    "colab": {
     "base_uri": "https://localhost:8080/"
    },
    "id": "VYP9cQTWbzuI",
    "outputId": "8a99a4a7-1099-4598-8316-04887c1144ff"
   },
   "outputs": [
    {
     "name": "stdout",
     "output_type": "stream",
     "text": [
      "[[242.0 302.0 60.0 'TRANSFER' 'Gold' 'Food']\n",
      " [7081.0 46066.0 38985.0 'TRANSFER' 'Gold' 'Entertainment']\n",
      " [16355.0 30355.0 14000.0 'TRANSFER' 'Silver' 'Fuel']\n",
      " ...\n",
      " [77083.57 38400000.0 38322916.43 'CASH_IN' 'Gold' 'Fuel']\n",
      " [121569.82 38400000.0 38278430.18 'CASH_IN' 'Platinum' 'Grocery']\n",
      " [6808.99 38900000.0 38893191.01 'CASH_IN' 'Signature' 'Bills']]\n"
     ]
    }
   ],
   "source": [
    "print(X)"
   ]
  },
  {
   "cell_type": "code",
   "execution_count": 6,
   "metadata": {
    "colab": {
     "base_uri": "https://localhost:8080/"
    },
    "id": "38vKGE6Nb2RR",
    "outputId": "ab879a2d-0120-46ab-d6fe-50b31a945bcd"
   },
   "outputs": [
    {
     "name": "stdout",
     "output_type": "stream",
     "text": [
      "[1 1 1 ... 0 0 0]\n"
     ]
    }
   ],
   "source": [
    "print(y)"
   ]
  },
  {
   "cell_type": "code",
   "execution_count": 7,
   "metadata": {},
   "outputs": [],
   "source": [
    "df = pd.DataFrame(data)"
   ]
  },
  {
   "cell_type": "code",
   "execution_count": 8,
   "metadata": {},
   "outputs": [
    {
     "data": {
      "text/html": [
       "<div>\n",
       "<style scoped>\n",
       "    .dataframe tbody tr th:only-of-type {\n",
       "        vertical-align: middle;\n",
       "    }\n",
       "\n",
       "    .dataframe tbody tr th {\n",
       "        vertical-align: top;\n",
       "    }\n",
       "\n",
       "    .dataframe thead th {\n",
       "        text-align: right;\n",
       "    }\n",
       "</style>\n",
       "<table border=\"1\" class=\"dataframe\">\n",
       "  <thead>\n",
       "    <tr style=\"text-align: right;\">\n",
       "      <th></th>\n",
       "      <th>Date</th>\n",
       "      <th>nameOrig</th>\n",
       "      <th>amount</th>\n",
       "      <th>oldbalanceOrg</th>\n",
       "      <th>newbalanceOrig</th>\n",
       "      <th>type</th>\n",
       "      <th>Card Type</th>\n",
       "      <th>Exp Type</th>\n",
       "      <th>Gender</th>\n",
       "      <th>isFraud</th>\n",
       "    </tr>\n",
       "  </thead>\n",
       "  <tbody>\n",
       "    <tr>\n",
       "      <th>0</th>\n",
       "      <td>26-May-13</td>\n",
       "      <td>C2011200430</td>\n",
       "      <td>242.0</td>\n",
       "      <td>302.0</td>\n",
       "      <td>60.0</td>\n",
       "      <td>TRANSFER</td>\n",
       "      <td>Gold</td>\n",
       "      <td>Food</td>\n",
       "      <td>F</td>\n",
       "      <td>1</td>\n",
       "    </tr>\n",
       "    <tr>\n",
       "      <th>1</th>\n",
       "      <td>26-Jul-12</td>\n",
       "      <td>C931301500</td>\n",
       "      <td>7081.0</td>\n",
       "      <td>46066.0</td>\n",
       "      <td>38985.0</td>\n",
       "      <td>TRANSFER</td>\n",
       "      <td>Gold</td>\n",
       "      <td>Entertainment</td>\n",
       "      <td>M</td>\n",
       "      <td>1</td>\n",
       "    </tr>\n",
       "    <tr>\n",
       "      <th>2</th>\n",
       "      <td>12-Apr-12</td>\n",
       "      <td>C963642457</td>\n",
       "      <td>16355.0</td>\n",
       "      <td>30355.0</td>\n",
       "      <td>14000.0</td>\n",
       "      <td>TRANSFER</td>\n",
       "      <td>Silver</td>\n",
       "      <td>Fuel</td>\n",
       "      <td>F</td>\n",
       "      <td>1</td>\n",
       "    </tr>\n",
       "    <tr>\n",
       "      <th>3</th>\n",
       "      <td>28-Jan-12</td>\n",
       "      <td>C1439438217</td>\n",
       "      <td>20820.0</td>\n",
       "      <td>39663.0</td>\n",
       "      <td>18843.0</td>\n",
       "      <td>TRANSFER</td>\n",
       "      <td>Gold</td>\n",
       "      <td>Food</td>\n",
       "      <td>F</td>\n",
       "      <td>1</td>\n",
       "    </tr>\n",
       "    <tr>\n",
       "      <th>4</th>\n",
       "      <td>16-Apr-14</td>\n",
       "      <td>C892940485</td>\n",
       "      <td>6071.0</td>\n",
       "      <td>35586.0</td>\n",
       "      <td>29515.0</td>\n",
       "      <td>TRANSFER</td>\n",
       "      <td>Gold</td>\n",
       "      <td>Fuel</td>\n",
       "      <td>M</td>\n",
       "      <td>1</td>\n",
       "    </tr>\n",
       "  </tbody>\n",
       "</table>\n",
       "</div>"
      ],
      "text/plain": [
       "        Date     nameOrig   amount  oldbalanceOrg  newbalanceOrig      type  \\\n",
       "0  26-May-13  C2011200430    242.0          302.0            60.0  TRANSFER   \n",
       "1  26-Jul-12   C931301500   7081.0        46066.0         38985.0  TRANSFER   \n",
       "2  12-Apr-12   C963642457  16355.0        30355.0         14000.0  TRANSFER   \n",
       "3  28-Jan-12  C1439438217  20820.0        39663.0         18843.0  TRANSFER   \n",
       "4  16-Apr-14   C892940485   6071.0        35586.0         29515.0  TRANSFER   \n",
       "\n",
       "  Card Type       Exp Type Gender  isFraud  \n",
       "0      Gold           Food      F        1  \n",
       "1      Gold  Entertainment      M        1  \n",
       "2    Silver           Fuel      F        1  \n",
       "3      Gold           Food      F        1  \n",
       "4      Gold           Fuel      M        1  "
      ]
     },
     "execution_count": 8,
     "metadata": {},
     "output_type": "execute_result"
    }
   ],
   "source": [
    "df.head()"
   ]
  },
  {
   "cell_type": "code",
   "execution_count": 9,
   "metadata": {},
   "outputs": [
    {
     "name": "stdout",
     "output_type": "stream",
     "text": [
      "['Food' 'Entertainment' 'Fuel' 'Bills' 'Grocery' 'Travel' 'Personal_Care'\n",
      " 'Health_Fitness' 'Home']\n"
     ]
    }
   ],
   "source": [
    "print(df['Exp Type'].unique())"
   ]
  },
  {
   "cell_type": "code",
   "execution_count": 10,
   "metadata": {},
   "outputs": [
    {
     "name": "stdout",
     "output_type": "stream",
     "text": [
      "Shape of X: (1048574, 21)\n",
      "Shape of y: (1048574,)\n"
     ]
    }
   ],
   "source": [
    "\n",
    "from sklearn.preprocessing import OneHotEncoder, LabelEncoder\n",
    "\n",
    "# Step 1: Encode 'type', 'Card Type', and 'Exp Type' using OneHotEncoder\n",
    "onehot_columns = ['type', 'Card Type', 'Exp Type']\n",
    "onehot_encoder = OneHotEncoder(sparse_output=False, drop='first')  # Use sparse_output=False instead of sparse\n",
    "onehot_encoded = onehot_encoder.fit_transform(data[onehot_columns])\n",
    "\n",
    "# Step 2: Label encode 'Gender'\n",
    "label_encoder_gender = LabelEncoder()\n",
    "data['Gender'] = label_encoder_gender.fit_transform(data['Gender'])\n",
    "\n",
    "# Step 3: Drop the one-hot-encoded columns and unwanted columns ('Date' and 'nameOrig') from the original data\n",
    "data = data.drop(columns=onehot_columns + ['Date', 'nameOrig'])\n",
    "\n",
    "# Step 4: Concatenate one-hot-encoded features with the remaining features\n",
    "X = pd.concat([data.drop(columns=['isFraud']), pd.DataFrame(onehot_encoded)], axis=1)\n",
    "\n",
    "# Step 5: Label encode the dependent variable ('isFraud')\n",
    "label_encoder_fraud = LabelEncoder()\n",
    "y = label_encoder_fraud.fit_transform(data['isFraud'])\n",
    "\n",
    "# Display results\n",
    "print(\"Shape of X:\", X.shape)\n",
    "print(\"Shape of y:\", y.shape)\n"
   ]
  },
  {
   "cell_type": "code",
   "execution_count": 11,
   "metadata": {},
   "outputs": [
    {
     "name": "stdout",
     "output_type": "stream",
     "text": [
      "            amount  oldbalanceOrg  newbalanceOrig  Gender    0    1    2    3  \\\n",
      "0           242.00          302.0           60.00       0  0.0  0.0  0.0  1.0   \n",
      "1          7081.00        46066.0        38985.00       1  0.0  0.0  0.0  1.0   \n",
      "2         16355.00        30355.0        14000.00       0  0.0  0.0  0.0  1.0   \n",
      "3         20820.00        39663.0        18843.00       0  0.0  0.0  0.0  1.0   \n",
      "4          6071.00        35586.0        29515.00       1  0.0  0.0  0.0  1.0   \n",
      "...            ...            ...             ...     ...  ...  ...  ...  ...   \n",
      "1048569  105150.78     38300000.0     38194849.22       0  0.0  0.0  0.0  0.0   \n",
      "1048570  376022.62     38600000.0     38223977.38       0  0.0  0.0  0.0  0.0   \n",
      "1048571   77083.57     38400000.0     38322916.43       0  0.0  0.0  0.0  0.0   \n",
      "1048572  121569.82     38400000.0     38278430.18       0  0.0  0.0  0.0  0.0   \n",
      "1048573    6808.99     38900000.0     38893191.01       1  0.0  0.0  0.0  0.0   \n",
      "\n",
      "           4    5  ...    7    8    9   10   11   12   13   14   15   16  \n",
      "0        1.0  0.0  ...  0.0  0.0  0.0  1.0  0.0  0.0  0.0  0.0  0.0  0.0  \n",
      "1        1.0  0.0  ...  0.0  0.0  1.0  0.0  0.0  0.0  0.0  0.0  0.0  0.0  \n",
      "2        0.0  0.0  ...  0.0  1.0  0.0  0.0  1.0  0.0  0.0  0.0  0.0  0.0  \n",
      "3        1.0  0.0  ...  0.0  0.0  0.0  1.0  0.0  0.0  0.0  0.0  0.0  0.0  \n",
      "4        1.0  0.0  ...  0.0  0.0  0.0  0.0  1.0  0.0  0.0  0.0  0.0  0.0  \n",
      "...      ...  ...  ...  ...  ...  ...  ...  ...  ...  ...  ...  ...  ...  \n",
      "1048569  0.0  0.0  ...  0.0  0.0  0.0  0.0  1.0  0.0  0.0  0.0  0.0  0.0  \n",
      "1048570  1.0  0.0  ...  0.0  0.0  0.0  0.0  0.0  1.0  0.0  0.0  0.0  0.0  \n",
      "1048571  1.0  0.0  ...  0.0  0.0  0.0  0.0  1.0  0.0  0.0  0.0  0.0  0.0  \n",
      "1048572  0.0  0.0  ...  0.0  0.0  0.0  0.0  0.0  1.0  0.0  0.0  0.0  0.0  \n",
      "1048573  0.0  0.0  ...  1.0  0.0  0.0  0.0  0.0  0.0  0.0  0.0  0.0  0.0  \n",
      "\n",
      "[1048574 rows x 21 columns]\n"
     ]
    }
   ],
   "source": [
    "print(X)"
   ]
  },
  {
   "cell_type": "markdown",
   "metadata": {
    "id": "vHol938cW8zd"
   },
   "source": [
    "### Splitting the dataset into the Training set and Test set"
   ]
  },
  {
   "cell_type": "code",
   "execution_count": 12,
   "metadata": {
    "id": "Z-TDt0Y_XEfc"
   },
   "outputs": [],
   "source": [
    "from sklearn.model_selection import train_test_split\n",
    "X_train, X_test, y_train, y_test = train_test_split(X, y, test_size = 0.33, random_state = 0)"
   ]
  },
  {
   "cell_type": "code",
   "execution_count": 13,
   "metadata": {},
   "outputs": [
    {
     "name": "stdout",
     "output_type": "stream",
     "text": [
      "Matrix saved to 'features_matrix1.txt'\n"
     ]
    }
   ],
   "source": [
    "np.savetxt(\"features_matrix1.txt\", X_train, fmt='%s', delimiter=\",\")\n",
    "print(\"Matrix saved to 'features_matrix1.txt'\")"
   ]
  },
  {
   "cell_type": "code",
   "execution_count": 14,
   "metadata": {},
   "outputs": [
    {
     "name": "stdout",
     "output_type": "stream",
     "text": [
      "          amount  oldbalanceOrg  newbalanceOrig  Gender    0    1    2    3  \\\n",
      "351361   2743.00        4221.00         1478.00       0  1.0  0.0  0.0  0.0   \n",
      "696834   3927.75       15376.00        11448.25       1  0.0  0.0  1.0  0.0   \n",
      "375900     73.00          98.00           25.00       1  0.0  0.0  0.0  0.0   \n",
      "370773   5085.00        5480.00          395.00       0  0.0  0.0  0.0  0.0   \n",
      "175763   3302.00        9152.00         5850.00       1  1.0  0.0  0.0  0.0   \n",
      "...          ...            ...             ...     ...  ...  ...  ...  ...   \n",
      "963395  26135.45     3012164.11      2986028.66       1  0.0  0.0  0.0  0.0   \n",
      "117952  17568.00       40434.00        22866.00       1  1.0  0.0  0.0  0.0   \n",
      "435829      0.00           0.00            0.00       1  1.0  0.0  0.0  0.0   \n",
      "305711    367.00        7128.00         6761.00       0  0.0  0.0  0.0  0.0   \n",
      "985772  94018.04     4877481.70      4783463.66       0  0.0  0.0  0.0  0.0   \n",
      "\n",
      "          4    5  ...    7    8    9   10   11   12   13   14   15   16  \n",
      "351361  0.0  0.0  ...  0.0  1.0  0.0  0.0  1.0  0.0  0.0  0.0  0.0  0.0  \n",
      "696834  1.0  0.0  ...  0.0  0.0  0.0  0.0  0.0  0.0  0.0  0.0  0.0  0.0  \n",
      "375900  1.0  0.0  ...  0.0  0.0  0.0  0.0  1.0  0.0  0.0  0.0  0.0  0.0  \n",
      "370773  0.0  0.0  ...  0.0  0.0  0.0  0.0  1.0  0.0  0.0  0.0  0.0  0.0  \n",
      "175763  0.0  0.0  ...  0.0  1.0  0.0  1.0  0.0  0.0  0.0  0.0  0.0  0.0  \n",
      "...     ...  ...  ...  ...  ...  ...  ...  ...  ...  ...  ...  ...  ...  \n",
      "963395  1.0  0.0  ...  0.0  0.0  1.0  0.0  0.0  0.0  0.0  0.0  0.0  0.0  \n",
      "117952  0.0  0.0  ...  0.0  1.0  1.0  0.0  0.0  0.0  0.0  0.0  0.0  0.0  \n",
      "435829  1.0  0.0  ...  0.0  0.0  1.0  0.0  0.0  0.0  0.0  0.0  0.0  0.0  \n",
      "305711  0.0  0.0  ...  0.0  0.0  0.0  0.0  0.0  1.0  0.0  0.0  0.0  0.0  \n",
      "985772  0.0  0.0  ...  0.0  0.0  1.0  0.0  0.0  0.0  0.0  0.0  0.0  0.0  \n",
      "\n",
      "[702544 rows x 21 columns]\n"
     ]
    }
   ],
   "source": [
    "print(X_train)"
   ]
  },
  {
   "cell_type": "code",
   "execution_count": 15,
   "metadata": {
    "colab": {
     "base_uri": "https://localhost:8080/"
    },
    "id": "hSy87diApZR5",
    "outputId": "6dbdb9e1-ea26-4b5b-efef-0083f7906be1"
   },
   "outputs": [
    {
     "name": "stdout",
     "output_type": "stream",
     "text": [
      "[0 0 0 ... 0 0 0]\n"
     ]
    }
   ],
   "source": [
    "print(y_train)"
   ]
  },
  {
   "cell_type": "code",
   "execution_count": 16,
   "metadata": {},
   "outputs": [
    {
     "name": "stdout",
     "output_type": "stream",
     "text": [
      "y_train values: [0 0 0 ... 0 0 0]\n",
      "Unique values in y_train: [0 1]\n"
     ]
    }
   ],
   "source": [
    "print(\"y_train values:\", y_train)\n",
    "print(\"Unique values in y_train:\", np.unique(y_train))"
   ]
  },
  {
   "cell_type": "code",
   "execution_count": 17,
   "metadata": {},
   "outputs": [
    {
     "name": "stdout",
     "output_type": "stream",
     "text": [
      "Are there missing values in y? False\n"
     ]
    }
   ],
   "source": [
    "print(\"Are there missing values in y?\", pd.isnull(y).any())"
   ]
  },
  {
   "cell_type": "code",
   "execution_count": 18,
   "metadata": {
    "id": "FWNlbosbpgUS"
   },
   "outputs": [],
   "source": [
    "from tensorflow.keras.utils import to_categorical\n",
    "\n",
    "# One-hot encode the target values\n",
    "#y_train = to_categorical(y_train, num_classes=3)  # Assuming 3 classes\n",
    "#y_test = to_categorical(y_test, num_classes=3)    # Do the same for y_test if you are using it for validation\n",
    "\n",
    "y_train = to_categorical(y_train, num_classes=3)\n",
    "y_test = to_categorical(y_test, num_classes=3)"
   ]
  },
  {
   "cell_type": "code",
   "execution_count": 19,
   "metadata": {},
   "outputs": [
    {
     "name": "stdout",
     "output_type": "stream",
     "text": [
      "[[1. 0. 0.]\n",
      " [1. 0. 0.]\n",
      " [1. 0. 0.]\n",
      " ...\n",
      " [1. 0. 0.]\n",
      " [1. 0. 0.]\n",
      " [1. 0. 0.]]\n"
     ]
    }
   ],
   "source": [
    "print(y_train)"
   ]
  },
  {
   "cell_type": "code",
   "execution_count": 20,
   "metadata": {
    "colab": {
     "base_uri": "https://localhost:8080/"
    },
    "id": "YLQk2iutpqMK",
    "outputId": "7fb2599f-2df6-4f26-962b-b47190843146"
   },
   "outputs": [
    {
     "name": "stdout",
     "output_type": "stream",
     "text": [
      "[[1. 0. 0.]\n",
      " [1. 0. 0.]\n",
      " [1. 0. 0.]\n",
      " ...\n",
      " [1. 0. 0.]\n",
      " [1. 0. 0.]\n",
      " [1. 0. 0.]]\n"
     ]
    }
   ],
   "source": [
    "print(y_test)"
   ]
  },
  {
   "cell_type": "markdown",
   "metadata": {
    "id": "RE_FcHyfV3TQ"
   },
   "source": [
    "### Feature Scaling"
   ]
  },
  {
   "cell_type": "code",
   "execution_count": 21,
   "metadata": {},
   "outputs": [
    {
     "name": "stdout",
     "output_type": "stream",
     "text": [
      "X_train shape: (702544, 21)\n",
      "X_test shape: (346030, 21)\n",
      "y_train shape: (702544, 3)\n",
      "y_test shape: (346030, 3)\n"
     ]
    }
   ],
   "source": [
    "from sklearn.preprocessing import StandardScaler\n",
    "\n",
    "if isinstance(X, pd.DataFrame):\n",
    "    X.columns = X.columns.astype(str)\n",
    "\n",
    "if isinstance(X_train, pd.DataFrame):\n",
    "    X_train = X_train.to_numpy()\n",
    "if isinstance(X_test, pd.DataFrame):\n",
    "    X_test = X_test.to_numpy()\n",
    "\n",
    "# Convert y to NumPy arrays if necessary\n",
    "if isinstance(y_train, pd.Series):\n",
    "    y_train = y_train.to_numpy()\n",
    "if isinstance(y_test, pd.Series):\n",
    "    y_test = y_test.to_numpy()\n",
    "\n",
    "scaler_X = StandardScaler()\n",
    "X_train = scaler_X.fit_transform(X_train)  # Fit and transform X_train\n",
    "X_test = scaler_X.transform(X_test)       # Transform X_test using the same scaler\n",
    "\n",
    "\n",
    "# Feature scaling for y (if necessary, e.g., if y contains continuous values)\n",
    "# If y is binary (e.g., 0 and 1), scaling is not required\n",
    "if len(set(y)) > 2:  # Check if y contains more than two unique values\n",
    "    scaler_y = StandardScaler()\n",
    "    y_train = scaler_y.fit_transform(y_train.reshape(-1, 1)).flatten()\n",
    "    y_test = scaler_y.transform(y_test.reshape(-1, 1)).flatten()\n",
    "\n",
    "print(\"X_train shape:\", X_train.shape)\n",
    "print(\"X_test shape:\", X_test.shape)\n",
    "print(\"y_train shape:\", y_train.shape)\n",
    "print(\"y_test shape:\", y_test.shape)"
   ]
  },
  {
   "cell_type": "markdown",
   "metadata": {
    "id": "-zfEzkRVXIwF"
   },
   "source": [
    "## Part 2 - Building the ANN"
   ]
  },
  {
   "cell_type": "markdown",
   "metadata": {
    "id": "KvdeScabXtlB"
   },
   "source": [
    "### Initializing the ANN"
   ]
  },
  {
   "cell_type": "code",
   "execution_count": 22,
   "metadata": {
    "id": "3dtrScHxXQox"
   },
   "outputs": [],
   "source": [
    "ann = tf.keras.models.Sequential()"
   ]
  },
  {
   "cell_type": "markdown",
   "metadata": {
    "id": "rP6urV6SX7kS"
   },
   "source": [
    "### Adding the input layer and the first hidden layer"
   ]
  },
  {
   "cell_type": "code",
   "execution_count": 23,
   "metadata": {
    "id": "bppGycBXYCQr"
   },
   "outputs": [],
   "source": [
    "ann.add(tf.keras.layers.Dense(units=6, activation='relu'))"
   ]
  },
  {
   "cell_type": "markdown",
   "metadata": {
    "id": "BELWAc_8YJze"
   },
   "source": [
    "### Adding the second hidden layer"
   ]
  },
  {
   "cell_type": "code",
   "execution_count": 24,
   "metadata": {
    "id": "JneR0u0sYRTd"
   },
   "outputs": [],
   "source": [
    "ann.add(tf.keras.layers.Dense(units=6, activation='relu'))"
   ]
  },
  {
   "cell_type": "markdown",
   "metadata": {
    "id": "OyNEe6RXYcU4"
   },
   "source": [
    "### Adding the output layer"
   ]
  },
  {
   "cell_type": "code",
   "execution_count": 25,
   "metadata": {
    "id": "Cn3x41RBYfvY"
   },
   "outputs": [],
   "source": [
    "ann.add(tf.keras.layers.Dense(units=3, activation='softmax'))"
   ]
  },
  {
   "cell_type": "markdown",
   "metadata": {
    "id": "JT4u2S1_Y4WG"
   },
   "source": [
    "## Part 3 - Training the ANN"
   ]
  },
  {
   "cell_type": "markdown",
   "metadata": {
    "id": "8GWlJChhY_ZI"
   },
   "source": [
    "### Compiling the ANN"
   ]
  },
  {
   "cell_type": "code",
   "execution_count": 26,
   "metadata": {
    "id": "fG3RrwDXZEaS"
   },
   "outputs": [],
   "source": [
    "ann.compile(optimizer = 'adam', loss = 'categorical_crossentropy', metrics = ['accuracy'])"
   ]
  },
  {
   "cell_type": "markdown",
   "metadata": {
    "id": "0QR_G5u7ZLSM"
   },
   "source": [
    "### Training the ANN on the Training set"
   ]
  },
  {
   "cell_type": "code",
   "execution_count": 27,
   "metadata": {
    "colab": {
     "base_uri": "https://localhost:8080/"
    },
    "id": "nHZ-LKv_ZRb3",
    "outputId": "64837240-e9f4-452c-9a5b-725d12ef9a15"
   },
   "outputs": [
    {
     "name": "stdout",
     "output_type": "stream",
     "text": [
      "Epoch 1/5\n",
      "\u001b[1m21955/21955\u001b[0m \u001b[32m━━━━━━━━━━━━━━━━━━━━\u001b[0m\u001b[37m\u001b[0m \u001b[1m40s\u001b[0m 2ms/step - accuracy: 0.8491 - loss: 0.3644\n",
      "Epoch 2/5\n",
      "\u001b[1m21955/21955\u001b[0m \u001b[32m━━━━━━━━━━━━━━━━━━━━\u001b[0m\u001b[37m\u001b[0m \u001b[1m40s\u001b[0m 2ms/step - accuracy: 0.8611 - loss: 0.3214\n",
      "Epoch 3/5\n",
      "\u001b[1m21955/21955\u001b[0m \u001b[32m━━━━━━━━━━━━━━━━━━━━\u001b[0m\u001b[37m\u001b[0m \u001b[1m39s\u001b[0m 2ms/step - accuracy: 0.8621 - loss: 0.3206\n",
      "Epoch 4/5\n",
      "\u001b[1m21955/21955\u001b[0m \u001b[32m━━━━━━━━━━━━━━━━━━━━\u001b[0m\u001b[37m\u001b[0m \u001b[1m38s\u001b[0m 2ms/step - accuracy: 0.8624 - loss: 0.3200\n",
      "Epoch 5/5\n",
      "\u001b[1m21955/21955\u001b[0m \u001b[32m━━━━━━━━━━━━━━━━━━━━\u001b[0m\u001b[37m\u001b[0m \u001b[1m38s\u001b[0m 2ms/step - accuracy: 0.8622 - loss: 0.3191\n"
     ]
    },
    {
     "data": {
      "text/plain": [
       "<keras.src.callbacks.history.History at 0x2bac993b530>"
      ]
     },
     "execution_count": 27,
     "metadata": {},
     "output_type": "execute_result"
    }
   ],
   "source": [
    "ann.fit(X_train, y_train, batch_size = 32, epochs = 5)"
   ]
  },
  {
   "cell_type": "markdown",
   "metadata": {
    "id": "tJj5k2MxZga3"
   },
   "source": [
    "## Part 4 - Making the predictions and evaluating the model"
   ]
  },
  {
   "cell_type": "markdown",
   "metadata": {
    "id": "u7yx47jPZt11"
   },
   "source": [
    "### Predicting the Test set results"
   ]
  },
  {
   "cell_type": "code",
   "execution_count": 28,
   "metadata": {
    "colab": {
     "base_uri": "https://localhost:8080/"
    },
    "id": "nIyEeQdRZwgs",
    "outputId": "212aab52-fc3d-4c13-dc91-62f83b9bd2a3"
   },
   "outputs": [
    {
     "name": "stdout",
     "output_type": "stream",
     "text": [
      "\u001b[1m10814/10814\u001b[0m \u001b[32m━━━━━━━━━━━━━━━━━━━━\u001b[0m\u001b[37m\u001b[0m \u001b[1m18s\u001b[0m 2ms/step\n"
     ]
    }
   ],
   "source": [
    "y_pred = ann.predict(X_test)"
   ]
  },
  {
   "cell_type": "code",
   "execution_count": 29,
   "metadata": {
    "colab": {
     "base_uri": "https://localhost:8080/"
    },
    "id": "9JM5xZOOWAug",
    "outputId": "a13b4ca9-2dab-4273-d188-7b393e0d28db"
   },
   "outputs": [
    {
     "data": {
      "text/plain": [
       "numpy.ndarray"
      ]
     },
     "execution_count": 29,
     "metadata": {},
     "output_type": "execute_result"
    }
   ],
   "source": [
    "type(y_pred)"
   ]
  },
  {
   "cell_type": "code",
   "execution_count": 32,
   "metadata": {
    "colab": {
     "base_uri": "https://localhost:8080/"
    },
    "id": "KnT-8AECVvbm",
    "outputId": "c28d116d-38c5-4e0d-a607-1d23d2f48d3a"
   },
   "outputs": [
    {
     "name": "stdout",
     "output_type": "stream",
     "text": [
      "Predictions saved to 'predictions4.csv'\n"
     ]
    }
   ],
   "source": [
    "\n",
    "# Find the maximum probability for each prediction\n",
    "max_probabilities = np.max(y_pred, axis=1)\n",
    "# Categorize predictions based on probability thresholds\n",
    "y_pred_flat = np.where(max_probabilities > 0.75, 2,\n",
    "               np.where(max_probabilities > 0.25, 1, 0))\n",
    "y_test_flat = np.argmax(y_test, axis=1)\n",
    "\n",
    "predictions_df = pd.DataFrame({\n",
    "    'Actual': y_test_flat,\n",
    "    'Predicted': y_pred_flat,\n",
    "    'Probability': max_probabilities\n",
    "})\n",
    "\n",
    "predictions_df.to_csv('predictions4.csv', index=False)\n",
    "print(\"Predictions saved to 'predictions4.csv'\")\n"
   ]
  },
  {
   "cell_type": "markdown",
   "metadata": {
    "id": "o0oyfLWoaEGw"
   },
   "source": [
    "### Making the Confusion Matrix"
   ]
  },
  {
   "cell_type": "code",
   "execution_count": 33,
   "metadata": {
    "colab": {
     "base_uri": "https://localhost:8080/",
     "height": 564
    },
    "id": "ci6K_r6LaF6P",
    "outputId": "8f883f01-dc9f-428f-bbd1-f86bec248999"
   },
   "outputs": [
    {
     "data": {
      "image/png": "[encoded data removed]",
      "text/plain": [
       "<Figure size 800x600 with 2 Axes>"
      ]
     },
     "metadata": {},
     "output_type": "display_data"
    }
   ],
   "source": [
    "# Generate the confusion matrix\n",
    "from sklearn.metrics import confusion_matrix\n",
    "import seaborn as sns\n",
    "import matplotlib.pyplot as plt\n",
    "cm = confusion_matrix(y_test_flat, y_pred_flat)\n",
    "\n",
    "# Display the confusion matrix using a heatmap\n",
    "plt.figure(figsize=(8, 6))\n",
    "sns.heatmap(cm, annot=True, fmt='d', cmap='Blues', xticklabels=[2, 1, 0], yticklabels=[0, 1, 2])\n",
    "plt.xlabel(\"Predicted Class\")\n",
    "plt.ylabel(\"Actual Class\")\n",
    "plt.title(\"Confusion Matrix\")\n",
    "plt.show()"
   ]
  }
 ],
 "metadata": {
  "colab": {
   "provenance": []
  },
  "kernelspec": {
   "display_name": "Python 3",
   "language": "python",
   "name": "python3"
  },
  "language_info": {
   "codemirror_mode": {
    "name": "ipython",
    "version": 3
   },
   "file_extension": ".py",
   "mimetype": "text/x-python",
   "name": "python",
   "nbconvert_exporter": "python",
   "pygments_lexer": "ipython3",
   "version": "3.12.2"
  }
 },
 "nbformat": 4,
 "nbformat_minor": 4
}
